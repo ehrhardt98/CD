{
 "cells": [
  {
   "cell_type": "markdown",
   "metadata": {},
   "source": [
    "# Acesso à Internet e à Televisão - Jorge 2A\n",
    "\n",
    "### Diferenças no acesso à Internet e Televisão no Sudeste "
   ]
  },
  {
   "cell_type": "code",
   "execution_count": 1,
   "metadata": {
    "collapsed": true
   },
   "outputs": [],
   "source": [
    "%matplotlib inline\n",
    "import pandas as pd\n",
    "import matplotlib.pyplot as plt"
   ]
  },
  {
   "cell_type": "code",
   "execution_count": 2,
   "metadata": {
    "collapsed": true
   },
   "outputs": [],
   "source": [
    "#V02322 - Tem acesso a internet no próprio domicílio\n",
    "#V02424 - Acesso através de 3g ou 4g\n",
    "#V02426 - Acesso por banda larga\n",
    "#V02323 - Acesso à internet por microcomputador\n",
    "#V02324 - Acesso à internet por celular\n",
    "#V02270 - Número de televiões de tela fina\n",
    "#V02271 - Número de televisões de tubo\n",
    "#V02272 - Tem televisão por assinatura\n",
    "#V02273 - Tem televisão com sinal aberto"
   ]
  },
  {
   "cell_type": "code",
   "execution_count": 6,
   "metadata": {},
   "outputs": [],
   "source": [
    "dados13 = pd.read_csv('DOM2013.csv')\n",
    "\n",
    "dados13.UF = dados13.UF.astype('category')\n",
    "dados13.V02322 = dados13.V02322.astype('category')\n",
    "dados13.V02424 = dados13.V02424.astype('category')\n",
    "dados13.V02426 = dados13.V02426.astype('category')\n",
    "dados13.V02323 = dados13.V02323.astype('category')\n",
    "dados13.V02324 = dados13.V02324.astype('category')\n",
    "dados13.V02270 = dados13.V02270.astype('category')\n",
    "dados13.V02271 = dados13.V02271.astype('category')\n",
    "dados13.V02273 = dados13.V02273.astype('category')\n",
    "\n",
    "dados13 = dados13.loc[(dados13.UF == 31) |\\\n",
    "                      (dados13.UF == 32) |\\\n",
    "                      (dados13.UF == 33) |\\\n",
    "                      (dados13.UF == 35)]\n",
    "\n",
    "dados_resumidos13 = dados13.loc[:,[\"UF\",\"V02322\",\"V02424\",\"V02426\",\"V02323\",\"V02324\",\"V02270\",\"V02271\",\"V02272\",\"V02273\"]]\n",
    "\n",
    "dados_resumidos13 = dados_resumidos13.rename(columns={\"UF\":\"Estado\",\\\n",
    "                                                      \"V02322\":\"Acesso a internet em casa\",\\\n",
    "                                                      \"V02424\":\"Acesso através de 3g ou 4g\",\\\n",
    "                                                      \"V02426\":\"Acesso por banda larga\",\\\n",
    "                                                      \"V02323\":\"Acesso por microcomputador\",\\\n",
    "                                                      \"V02324\":\"Acesso por celular\",\\\n",
    "                                                      \"V02270\":\"Número de TV de tela fina\",\\\n",
    "                                                      \"V02271\":\"Número de TV de tubo\",\\\n",
    "                                                      \"V02272\":\"Tem TV por assinatura\",\\\n",
    "                                                      \"V02273\":\"Tem TV por sinal aberto\"})\n",
    "\n",
    "dados_final13 = dados_resumidos13.dropna()\n",
    "\n",
    "dados_final13.to_csv(\"resumo2013.csv\")"
   ]
  },
  {
   "cell_type": "code",
   "execution_count": 4,
   "metadata": {
    "collapsed": true
   },
   "outputs": [],
   "source": [
    "dados14 = pd.read_csv('DOM2014.csv')\n",
    "\n",
    "dados14.UF = dados14.UF.astype('category')\n",
    "dados14.V02322 = dados14.V02322.astype('category')\n",
    "dados14.V02424 = dados14.V02424.astype('category')\n",
    "dados14.V02426 = dados14.V02426.astype('category')\n",
    "dados14.V02323 = dados14.V02323.astype('category')\n",
    "dados14.V02324 = dados14.V02324.astype('category')\n",
    "dados14.V02270 = dados14.V02270.astype('category')\n",
    "dados14.V02271 = dados14.V02271.astype('category')\n",
    "dados14.V02273 = dados14.V02273.astype('category')\n",
    "\n",
    "dados14 = dados14.loc[(dados14.UF == 31) |\\\n",
    "                      (dados14.UF == 32) |\\\n",
    "                      (dados14.UF == 33) |\\\n",
    "                      (dados14.UF == 35)]\n",
    "\n",
    "dados_resumidos14 = dados14.loc[:,[\"UF\",\"V02322\",\"V02424\",\"V02426\",\"V02323\",\"V02324\",\"V02272\",\"V0226\"]]\n",
    "\n",
    "dados_resumidos14 = dados_resumidos14.rename(columns={\"UF\":\"Estado\",\\\n",
    "                                                      \"V02322\":\"Acesso a internet em casa\",\\\n",
    "                                                      \"V02424\":\"Acesso através de 3g ou 4g\",\\\n",
    "                                                      \"V02426\":\"Acesso por banda larga\",\\\n",
    "                                                      \"V02323\":\"Acesso por microcomputador\",\\\n",
    "                                                      \"V02324\":\"Acesso por celular\",\\\n",
    "                                                      \"V02270\":\"Número de TV de tela fina\",\\\n",
    "                                                      \"V02271\":\"Número de TV de tubo\",\\\n",
    "                                                      \"V02272\":\"Tem TV por assinatura\",\\\n",
    "                                                      \"V02273\":\"Tem TV por sinal aberto\"})\n",
    "\n",
    "dados_final14 = dados_resumidos14.dropna()\n",
    "\n",
    "dados_final14.to_csv(\"resumo2014.csv\")"
   ]
  },
  {
   "cell_type": "code",
   "execution_count": 5,
   "metadata": {
    "collapsed": true,
    "scrolled": true
   },
   "outputs": [],
   "source": [
    "dados15 = pd.read_csv('DOM2015.csv')\n",
    "\n",
    "dados15.UF = dados15.UF.astype('category')\n",
    "dados15.V02322 = dados15.V02322.astype('category')\n",
    "dados15.V02424 = dados15.V02424.astype('category')\n",
    "dados15.V02426 = dados15.V02426.astype('category')\n",
    "dados15.V02323 = dados15.V02323.astype('category')\n",
    "dados15.V02324 = dados15.V02324.astype('category')\n",
    "dados15.V02270 = dados15.V02270.astype('category')\n",
    "dados15.V02271 = dados15.V02271.astype('category')\n",
    "dados15.V02273 = dados15.V02273.astype('category')\n",
    "\n",
    "dados15 = dados15.loc[(dados15.UF == 31) |\\\n",
    "                      (dados15.UF == 32) |\\\n",
    "                      (dados15.UF == 33) |\\\n",
    "                      (dados15.UF == 35)]\n",
    "\n",
    "\n",
    "dados_resumidos15 = dados15.loc[:,[\"UF\",\"V02322\",\"V02424\",\"V02426\",\"V02323\",\"V02324\",\"V02272\",\"V0226\"]]\n",
    "\n",
    "dados_resumidos15 = dados_resumidos15.rename(columns={\"UF\":\"Estado\",\\\n",
    "                                                      \"V02322\":\"Acesso a internet em casa\",\\\n",
    "                                                      \"V02424\":\"Acesso através de 3g ou 4g\",\\\n",
    "                                                      \"V02426\":\"Acesso por banda larga\",\\\n",
    "                                                      \"V02323\":\"Acesso por microcomputador\",\\\n",
    "                                                      \"V02324\":\"Acesso por celular\",\\\n",
    "                                                      \"V02270\":\"Número de TV de tela fina\",\\\n",
    "                                                      \"V02271\":\"Número de TV de tubo\",\\\n",
    "                                                      \"V02272\":\"Tem TV por assinatura\",\\\n",
    "                                                      \"V02273\":\"Tem TV por sinal aberto\"})\n",
    "\n",
    "dados_final15 = dados_resumidos15.dropna()\n",
    "\n",
    "dados_final15.to_csv(\"resumo2015.csv\")"
   ]
  },
  {
   "cell_type": "code",
   "execution_count": null,
   "metadata": {
    "collapsed": true
   },
   "outputs": [],
   "source": []
  }
 ],
 "metadata": {
  "kernelspec": {
   "display_name": "Python 3",
   "language": "python",
   "name": "python3"
  },
  "language_info": {
   "codemirror_mode": {
    "name": "ipython",
    "version": 3
   },
   "file_extension": ".py",
   "mimetype": "text/x-python",
   "name": "python",
   "nbconvert_exporter": "python",
   "pygments_lexer": "ipython3",
   "version": "3.6.0"
  }
 },
 "nbformat": 4,
 "nbformat_minor": 2
}

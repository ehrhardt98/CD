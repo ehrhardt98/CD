{
 "cells": [
  {
   "cell_type": "markdown",
   "metadata": {},
   "source": [
    "# Acesso à Internet e à Televisão - Jorge2A\n",
    "\n",
    "### Diferenças no acesso a internet no campo e na cidade entre 2013 e 2015 (no Sudeste)"
   ]
  },
  {
   "cell_type": "code",
   "execution_count": 1,
   "metadata": {
    "collapsed": true
   },
   "outputs": [],
   "source": [
    "%matplotlib inline\n",
    "import pandas as pd\n",
    "import matplotlib.pyplot as plt"
   ]
  },
  {
   "cell_type": "code",
   "execution_count": 3,
   "metadata": {
    "collapsed": true
   },
   "outputs": [],
   "source": [
    "#UF - Unidade Federal\n",
    "#V4105 - Situação sensitária (1-cidade/4-campo)\n",
    "#V02322 - Tem acesso a internet no próprio domicílio\n",
    "#V02424 - Acesso através de 3g ou 4g (2-sim/4-nao)"
   ]
  },
  {
   "cell_type": "code",
   "execution_count": 2,
   "metadata": {
    "collapsed": true
   },
   "outputs": [],
   "source": [
    "dados13 = pd.read_csv('DOM2013.csv')\n",
    "\n",
    "\n",
    "dados13.UF = dados13.UF.astype('category')\n",
    "dados13.V4105 = dados13.V4105.astype('category')\n",
    "dados13.V02322 = dados13.V02322.astype('category')\n",
    "dados13.V02323 = dados13.V02323.astype('category')\n",
    "dados13.V02324 = dados13.V02324.astype('category')\n",
    "dados13.V02424 = dados13.V02424.astype('category')\n",
    "\n",
    "dados13 = dados13.loc[(dados13.UF == 31) |\\\n",
    "                      (dados13.UF == 32) |\\\n",
    "                      (dados13.UF == 33) |\\\n",
    "                      (dados13.UF == 35)]\n",
    "\n",
    "dados13 = dados13.loc[(dados13.V4105 == 1) | (dados13.V4105 == 4)]\n",
    "\n",
    "dados_resumidos13 = dados13.loc[:,[\"UF\",\"V4105\",\"V02322\",\"V02323\",\"V02324\",\"V02424\"]]\n",
    "\n",
    "dados_resumidos13 = dados_resumidos13.rename(columns={\"UF\":\"Estado\",\\\n",
    "                                                      \"V4105\":\"Situação Sensitária\",\\\n",
    "                                                      \"V02322\":\"Acesso a internet em casa\",\\\n",
    "                                                      \"V02323\":\"Acesso por microcomputador\",\\\n",
    "                                                      \"V02324\":\"Acesso por celular\",\\\n",
    "                                                      \"V02424\":\"Acesso através de 3g ou 4g\"})\n",
    "\n",
    "dados_final13 = dados_resumidos13.dropna()\n",
    "\n",
    "dados_final13.to_csv(\"resumo2013.csv\")"
   ]
  },
  {
   "cell_type": "code",
   "execution_count": 3,
   "metadata": {
    "collapsed": true
   },
   "outputs": [],
   "source": [
    "dados14 = pd.read_csv('DOM2014.csv')\n",
    "\n",
    "dados14.UF = dados13.UF.astype('category')\n",
    "dados14.V4105 = dados13.V4105.astype('category')\n",
    "dados14.V02322 = dados13.V02322.astype('category')\n",
    "dados14.V02323 = dados13.V02323.astype('category')\n",
    "dados14.V02324 = dados13.V02324.astype('category')\n",
    "dados14.V02424 = dados13.V02424.astype('category')\n",
    "\n",
    "dados14 = dados14.loc[(dados14.UF == 31) |\\\n",
    "                      (dados14.UF == 32) |\\\n",
    "                      (dados14.UF == 33) |\\\n",
    "                      (dados14.UF == 35)]\n",
    "\n",
    "dados14 = dados14.loc[(dados14.V4105 == 1) | (dados14.V4105 == 4)]\n",
    "\n",
    "dados_resumidos14 = dados14.loc[:,[\"UF\",\"V4105\",\"V02322\",\"V02323\",\"V02324\",\"V02424\"]]\n",
    "\n",
    "dados_resumidos14 = dados_resumidos14.rename(columns={\"UF\":\"Estado\",\\\n",
    "                                                      \"V4105\":\"Situação Sensitária\",\\\n",
    "                                                      \"V02322\":\"Acesso a internet em casa\",\\\n",
    "                                                      \"V02323\":\"Acesso por microcomputador\",\\\n",
    "                                                      \"V02324\":\"Acesso por celular\",\\\n",
    "                                                      \"V02424\":\"Acesso através de 3g ou 4g\"})\n",
    "\n",
    "dados_final14 = dados_resumidos14.dropna()\n",
    "\n",
    "dados_final14.to_csv(\"resumo2014.csv\")"
   ]
  },
  {
   "cell_type": "code",
   "execution_count": 4,
   "metadata": {
    "scrolled": true
   },
   "outputs": [],
   "source": [
    "dados15 = pd.read_csv('DOM2015.csv')\n",
    "\n",
    "dados15.V02322 = dados15.V02322.astype('category')\n",
    "dados15.V02424 = dados15.V02424.astype('category')\n",
    "\n",
    "dados15 = dados15.loc[(dados15.UF == 31)|\\\n",
    "                      (dados15.UF == 32)|\\\n",
    "                      (dados15.UF == 33)|\\\n",
    "                      (dados15.UF == 35)]\n",
    "\n",
    "\n",
    "dados_resumidos15 = dados15.loc[:,[\"UF\",\"V4105\",\"V02322\",\"V02424\"]]\n",
    "\n",
    "dados_resumidos15 = dados_resumidos15[pd.notnull(dados_resumidos15.V02322)&\\\n",
    "                                      pd.notnull(dados_resumidos15.V02424)]\n",
    "\n",
    "dados_resumidos15.V02424.cat.categories = (\"Sim\", \"Não\")\n",
    "\n",
    "dados_resumidos15.V02322.cat.categories = (\"Sim\", \"Não\")\n",
    "\n",
    "\n",
    "internet_fixa1 = dados_resumidos15.loc[(dados_resumidos15.V4105==1)|\\\n",
    "                                       (dados_resumidos15.V4105==2)|\\\n",
    "                                       (dados_resumidos15.V4105==3)].V02322.value_counts()\n",
    "\n",
    "internet_fixa2 = dados_resumidos15.loc[(dados_resumidos15.V4105==4)|\\\n",
    "                                       (dados_resumidos15.V4105==5)|\\\n",
    "                                       (dados_resumidos15.V4105==6)|\\\n",
    "                                       (dados_resumidos15.V4105==7)|\\\n",
    "                                       (dados_resumidos15.V4105==8)].V02322.value_counts()\n",
    "\n",
    "internet_movel1 = dados_resumidos15.loc[(dados_resumidos15.V4105==1)|\\\n",
    "                                        (dados_resumidos15.V4105==2)|\\\n",
    "                                        (dados_resumidos15.V4105==3)].V02424.value_counts()\n",
    "\n",
    "internet_movel2 = dados_resumidos15.loc[(dados_resumidos15.V4105==4)|\\\n",
    "                                        (dados_resumidos15.V4105==5)|\\\n",
    "                                        (dados_resumidos15.V4105==6)|\\\n",
    "                                        (dados_resumidos15.V4105==7)|\\\n",
    "                                        (dados_resumidos15.V4105==8)].V02424.value_counts()\n",
    "\n",
    "\n",
    "internet_fixaUrb = dados_resumidos15.loc[(dados_resumidos15.V4105==1)|\\\n",
    "                                       (dados_resumidos15.V4105==2)|\\\n",
    "                                       (dados_resumidos15.V4105==3)&\\\n",
    "                                       (dados_resumidos15.V02322==2)].V02322.value_counts()\n",
    "\n",
    "internet_fixaRur = dados_resumidos15.loc[(dados_resumidos15.V4105==4)|\\\n",
    "                                       (dados_resumidos15.V4105==5)|\\\n",
    "                                       (dados_resumidos15.V4105==6)|\\\n",
    "                                       (dados_resumidos15.V4105==7)|\\\n",
    "                                       (dados_resumidos15.V4105==7)&\\\n",
    "                                       (dados_resumidos15.V02322==2)].V02322.value_counts()\n",
    "\n",
    "\n",
    "dados_resumidos15 = dados_resumidos15.rename(columns={\"UF\":\"Estado\",\\\n",
    "                                                      \"V4105\":\"Situação Sensitária\",\\\n",
    "                                                      \"V02322\":\"Acesso a internet em casa\",\\\n",
    "                                                      \"V02424\":\"Acesso através de 3g ou 4g\"})\n",
    "\n",
    "\n",
    "dados_final15 = dados_resumidos15\n",
    "\n",
    "dados_final15.to_csv(\"resumo2015.csv\")"
   ]
  },
  {
   "cell_type": "code",
   "execution_count": 5,
   "metadata": {},
   "outputs": [
    {
     "data": {
      "text/plain": [
       "<matplotlib.text.Text at 0x1d306808240>"
      ]
     },
     "execution_count": 5,
     "metadata": {},
     "output_type": "execute_result"
    },
    {
     "data": {
      "image/png": "[encoded data removed]",
      "text/plain": [
       "<matplotlib.figure.Figure at 0x1d36c07ac88>"
      ]
     },
     "metadata": {},
     "output_type": "display_data"
    }
   ],
   "source": [
    "internet_movel1.plot(kind='pie', colors=('red','lime'), autopct=\"%0.2f\", legend=False)\n",
    "plt.title(\"Aceso à internet por 3g ou 4g em áreas urbanas\")"
   ]
  },
  {
   "cell_type": "code",
   "execution_count": 6,
   "metadata": {},
   "outputs": [
    {
     "data": {
      "text/plain": [
       "<matplotlib.text.Text at 0x1d30001bb38>"
      ]
     },
     "execution_count": 6,
     "metadata": {},
     "output_type": "execute_result"
    },
    {
     "data": {
      "image/png": "[encoded data removed]",
      "text/plain": [
       "<matplotlib.figure.Figure at 0x1d36c0bb668>"
      ]
     },
     "metadata": {},
     "output_type": "display_data"
    }
   ],
   "source": [
    "internet_movel2.plot(kind='pie', colors=('red','lime'), autopct=\"%0.2f\", legend=False)\n",
    "plt.title(\"Aceso à internet por 3g ou 4g em áreas rurais\")"
   ]
  },
  {
   "cell_type": "code",
   "execution_count": 7,
   "metadata": {},
   "outputs": [
    {
     "data": {
      "text/plain": [
       "<matplotlib.text.Text at 0x1d30009e908>"
      ]
     },
     "execution_count": 7,
     "metadata": {},
     "output_type": "execute_result"
    },
    {
     "data": {
      "image/png": "[encoded data removed]",
      "text/plain": [
       "<matplotlib.figure.Figure at 0x1d30689a940>"
      ]
     },
     "metadata": {},
     "output_type": "display_data"
    }
   ],
   "source": [
    "internet_fixa1.plot(kind='pie', colors=('lime','red'), autopct=\"%0.2f\", legend=False)\n",
    "plt.title(\"Aceso à internet no próprio domicílio em áreas urbanas\")"
   ]
  },
  {
   "cell_type": "code",
   "execution_count": 8,
   "metadata": {},
   "outputs": [
    {
     "data": {
      "text/plain": [
       "<matplotlib.text.Text at 0x1d36a109748>"
      ]
     },
     "execution_count": 8,
     "metadata": {},
     "output_type": "execute_result"
    },
    {
     "data": {
      "image/png": "[encoded data removed]",
      "text/plain": [
       "<matplotlib.figure.Figure at 0x1d300079d68>"
      ]
     },
     "metadata": {},
     "output_type": "display_data"
    }
   ],
   "source": [
    "internet_fixa2.plot(kind='pie', colors=('lime','red'), autopct=\"%0.2f\", legend=False)\n",
    "plt.title(\"Aceso à internet no próprio domicílio em áreas rurais\")"
   ]
  },
  {
   "cell_type": "code",
   "execution_count": 16,
   "metadata": {},
   "outputs": [],
   "source": [
    "cross = pd.crosstab(internet_fixaUrb, internet_fixaRur, rownames=[\"internet_fixaUrb\"], colnames=[\"internet_fixaRur\"])"
   ]
  },
  {
   "cell_type": "code",
   "execution_count": 18,
   "metadata": {},
   "outputs": [
    {
     "ename": "ValueError",
     "evalue": "pie requires either y column or 'subplots=True'",
     "output_type": "error",
     "traceback": [
      "\u001b[0;31m---------------------------------------------------------------------------\u001b[0m",
      "\u001b[0;31mValueError\u001b[0m                                Traceback (most recent call last)",
      "\u001b[0;32m<ipython-input-18-e9cb4fc19153>\u001b[0m in \u001b[0;36m<module>\u001b[0;34m()\u001b[0m\n\u001b[0;32m----> 1\u001b[0;31m \u001b[0mcross\u001b[0m\u001b[1;33m.\u001b[0m\u001b[0mplot\u001b[0m\u001b[1;33m(\u001b[0m\u001b[0mkind\u001b[0m\u001b[1;33m=\u001b[0m\u001b[1;34m'pie'\u001b[0m\u001b[1;33m,\u001b[0m \u001b[0mcolors\u001b[0m\u001b[1;33m=\u001b[0m\u001b[1;33m(\u001b[0m\u001b[1;34m'lime'\u001b[0m\u001b[1;33m,\u001b[0m\u001b[1;34m'red'\u001b[0m\u001b[1;33m)\u001b[0m\u001b[1;33m,\u001b[0m \u001b[0mautopct\u001b[0m\u001b[1;33m=\u001b[0m\u001b[1;34m'%.2f'\u001b[0m\u001b[1;33m,\u001b[0m \u001b[0mlegend\u001b[0m\u001b[1;33m=\u001b[0m\u001b[1;32mFalse\u001b[0m\u001b[1;33m)\u001b[0m\u001b[1;33m\u001b[0m\u001b[0m\n\u001b[0m",
      "\u001b[0;32mC:\\Users\\jorge\\Anaconda3\\lib\\site-packages\\pandas\\tools\\plotting.py\u001b[0m in \u001b[0;36m__call__\u001b[0;34m(self, x, y, kind, ax, subplots, sharex, sharey, layout, figsize, use_index, title, grid, legend, style, logx, logy, loglog, xticks, yticks, xlim, ylim, rot, fontsize, colormap, table, yerr, xerr, secondary_y, sort_columns, **kwds)\u001b[0m\n\u001b[1;32m   3772\u001b[0m                           \u001b[0mfontsize\u001b[0m\u001b[1;33m=\u001b[0m\u001b[0mfontsize\u001b[0m\u001b[1;33m,\u001b[0m \u001b[0mcolormap\u001b[0m\u001b[1;33m=\u001b[0m\u001b[0mcolormap\u001b[0m\u001b[1;33m,\u001b[0m \u001b[0mtable\u001b[0m\u001b[1;33m=\u001b[0m\u001b[0mtable\u001b[0m\u001b[1;33m,\u001b[0m\u001b[1;33m\u001b[0m\u001b[0m\n\u001b[1;32m   3773\u001b[0m                           \u001b[0myerr\u001b[0m\u001b[1;33m=\u001b[0m\u001b[0myerr\u001b[0m\u001b[1;33m,\u001b[0m \u001b[0mxerr\u001b[0m\u001b[1;33m=\u001b[0m\u001b[0mxerr\u001b[0m\u001b[1;33m,\u001b[0m \u001b[0msecondary_y\u001b[0m\u001b[1;33m=\u001b[0m\u001b[0msecondary_y\u001b[0m\u001b[1;33m,\u001b[0m\u001b[1;33m\u001b[0m\u001b[0m\n\u001b[0;32m-> 3774\u001b[0;31m                           sort_columns=sort_columns, **kwds)\n\u001b[0m\u001b[1;32m   3775\u001b[0m     \u001b[0m__call__\u001b[0m\u001b[1;33m.\u001b[0m\u001b[0m__doc__\u001b[0m \u001b[1;33m=\u001b[0m \u001b[0mplot_frame\u001b[0m\u001b[1;33m.\u001b[0m\u001b[0m__doc__\u001b[0m\u001b[1;33m\u001b[0m\u001b[0m\n\u001b[1;32m   3776\u001b[0m \u001b[1;33m\u001b[0m\u001b[0m\n",
      "\u001b[0;32mC:\\Users\\jorge\\Anaconda3\\lib\\site-packages\\pandas\\tools\\plotting.py\u001b[0m in \u001b[0;36mplot_frame\u001b[0;34m(data, x, y, kind, ax, subplots, sharex, sharey, layout, figsize, use_index, title, grid, legend, style, logx, logy, loglog, xticks, yticks, xlim, ylim, rot, fontsize, colormap, table, yerr, xerr, secondary_y, sort_columns, **kwds)\u001b[0m\n\u001b[1;32m   2641\u001b[0m                  \u001b[0myerr\u001b[0m\u001b[1;33m=\u001b[0m\u001b[0myerr\u001b[0m\u001b[1;33m,\u001b[0m \u001b[0mxerr\u001b[0m\u001b[1;33m=\u001b[0m\u001b[0mxerr\u001b[0m\u001b[1;33m,\u001b[0m\u001b[1;33m\u001b[0m\u001b[0m\n\u001b[1;32m   2642\u001b[0m                  \u001b[0msecondary_y\u001b[0m\u001b[1;33m=\u001b[0m\u001b[0msecondary_y\u001b[0m\u001b[1;33m,\u001b[0m \u001b[0msort_columns\u001b[0m\u001b[1;33m=\u001b[0m\u001b[0msort_columns\u001b[0m\u001b[1;33m,\u001b[0m\u001b[1;33m\u001b[0m\u001b[0m\n\u001b[0;32m-> 2643\u001b[0;31m                  **kwds)\n\u001b[0m\u001b[1;32m   2644\u001b[0m \u001b[1;33m\u001b[0m\u001b[0m\n\u001b[1;32m   2645\u001b[0m \u001b[1;33m\u001b[0m\u001b[0m\n",
      "\u001b[0;32mC:\\Users\\jorge\\Anaconda3\\lib\\site-packages\\pandas\\tools\\plotting.py\u001b[0m in \u001b[0;36m_plot\u001b[0;34m(data, x, y, subplots, ax, kind, **kwds)\u001b[0m\n\u001b[1;32m   2435\u001b[0m             \u001b[1;32mif\u001b[0m \u001b[0my\u001b[0m \u001b[1;32mis\u001b[0m \u001b[1;32mNone\u001b[0m \u001b[1;32mand\u001b[0m \u001b[0msubplots\u001b[0m \u001b[1;32mis\u001b[0m \u001b[1;32mFalse\u001b[0m\u001b[1;33m:\u001b[0m\u001b[1;33m\u001b[0m\u001b[0m\n\u001b[1;32m   2436\u001b[0m                 \u001b[0mmsg\u001b[0m \u001b[1;33m=\u001b[0m \u001b[1;34m\"{0} requires either y column or 'subplots=True'\"\u001b[0m\u001b[1;33m\u001b[0m\u001b[0m\n\u001b[0;32m-> 2437\u001b[0;31m                 \u001b[1;32mraise\u001b[0m \u001b[0mValueError\u001b[0m\u001b[1;33m(\u001b[0m\u001b[0mmsg\u001b[0m\u001b[1;33m.\u001b[0m\u001b[0mformat\u001b[0m\u001b[1;33m(\u001b[0m\u001b[0mkind\u001b[0m\u001b[1;33m)\u001b[0m\u001b[1;33m)\u001b[0m\u001b[1;33m\u001b[0m\u001b[0m\n\u001b[0m\u001b[1;32m   2438\u001b[0m             \u001b[1;32melif\u001b[0m \u001b[0my\u001b[0m \u001b[1;32mis\u001b[0m \u001b[1;32mnot\u001b[0m \u001b[1;32mNone\u001b[0m\u001b[1;33m:\u001b[0m\u001b[1;33m\u001b[0m\u001b[0m\n\u001b[1;32m   2439\u001b[0m                 \u001b[1;32mif\u001b[0m \u001b[0mis_integer\u001b[0m\u001b[1;33m(\u001b[0m\u001b[0my\u001b[0m\u001b[1;33m)\u001b[0m \u001b[1;32mand\u001b[0m \u001b[1;32mnot\u001b[0m \u001b[0mdata\u001b[0m\u001b[1;33m.\u001b[0m\u001b[0mcolumns\u001b[0m\u001b[1;33m.\u001b[0m\u001b[0mholds_integer\u001b[0m\u001b[1;33m(\u001b[0m\u001b[1;33m)\u001b[0m\u001b[1;33m:\u001b[0m\u001b[1;33m\u001b[0m\u001b[0m\n",
      "\u001b[0;31mValueError\u001b[0m: pie requires either y column or 'subplots=True'"
     ]
    }
   ],
   "source": [
    "cross.plot(kind='pie', colors=('lime','red'), autopct='%.2f', legend=False)"
   ]
  },
  {
   "cell_type": "code",
   "execution_count": null,
   "metadata": {
    "collapsed": true
   },
   "outputs": [],
   "source": []
  }
 ],
 "metadata": {
  "kernelspec": {
   "display_name": "Python 3",
   "language": "python",
   "name": "python3"
  },
  "language_info": {
   "codemirror_mode": {
    "name": "ipython",
    "version": 3
   },
   "file_extension": ".py",
   "mimetype": "text/x-python",
   "name": "python",
   "nbconvert_exporter": "python",
   "pygments_lexer": "ipython3",
   "version": "3.6.0"
  }
 },
 "nbformat": 4,
 "nbformat_minor": 2
}
